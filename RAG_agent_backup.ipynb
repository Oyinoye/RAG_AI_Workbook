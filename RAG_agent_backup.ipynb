{
 "cells": [
  {
   "cell_type": "markdown",
   "id": "c735c5a6-8164-4aba-83c3-6cd1d235e480",
   "metadata": {},
   "source": [
    "## SWARMAURI RETRIEVAL AUGMENTED GENERATION AGENT (RAG)"
   ]
  },
  {
   "cell_type": "code",
   "execution_count": 2,
   "id": "d07c4e07-cca7-4352-b2a6-ebc6fbbfd655",
   "metadata": {},
   "outputs": [],
   "source": [
    "# Import GroqMOdel using api key from groq and initializing."
   ]
  },
  {
   "cell_type": "code",
   "execution_count": 3,
   "id": "fca8bda7-adf5-4e07-ab94-9b420eae5c75",
   "metadata": {},
   "outputs": [
    {
     "name": "stdout",
     "output_type": "stream",
     "text": [
      "LLM Initialized Successfully\n"
     ]
    }
   ],
   "source": [
    "from swarmauri.llms.concrete.GroqModel import GroqModel\n",
    "from dotenv import load_dotenv\n",
    "import os\n",
    "\n",
    "load_dotenv()\n",
    "\n",
    "API_KEY = os.getenv(\"GROQ_API_KEY\") \n",
    "if API_KEY:\n",
    "    llm = GroqModel(api_key=API_KEY)\n",
    "    print(\"LLM Initialized Successfully\")\n",
    "else:\n",
    "    print(\"API Key not found!\")"
   ]
  },
  {
   "cell_type": "markdown",
   "id": "576062b7-2d8f-4b24-9eca-8f389e984877",
   "metadata": {},
   "source": [
    "Setting up vector store"
   ]
  },
  {
   "cell_type": "code",
   "execution_count": 5,
   "id": "680f0812-61e6-415f-b11b-c9a12a4f7ca1",
   "metadata": {},
   "outputs": [],
   "source": [
    "# from swarmauri.vector_stores.concrete.TfidfVectorStore import TfidfVectorStore\n",
    "# from swarmauri.documents.concrete.Document import Document\n",
    "\n",
    "# vector_store= TfidfVectorStore()\n",
    "\n",
    "# documents = [Document(content=\"Their sister's name is Jane.\"),\n",
    "#     Document(content=\"Their mother's name is Jean.\"),\n",
    "#     Document(content=\"They use AWS for cloud services.\"),\n",
    "#     Document(content=\"Their grandather's name is Alex.\")]\n",
    "\n",
    "# # Adding documents to the store\n",
    "# vector_store.add_documents(documents)\n",
    "\n",
    "# print(\"Documents successfully added to the vector store!\")\n",
    "\n",
    "# # Retrieve and print all documents\n",
    "# all_docs = vector_store.get_all_documents()\n",
    "# print(\"All documents in the victor store:\")\n",
    "# for doc in all_docs:\n",
    "#     print(doc.content)\n",
    "\n",
    "# print(f\"{len(vector_store.documents)} documents added to the vector store.\")"
   ]
  },
  {
   "cell_type": "markdown",
   "id": "57191d22-91bc-44db-abc3-aea22a3144fa",
   "metadata": {},
   "source": [
    "Loading pdfs document"
   ]
  },
  {
   "cell_type": "code",
   "execution_count": 7,
   "id": "81ed44a6-2a22-4aab-b16b-cf2f34b57fc8",
   "metadata": {},
   "outputs": [
    {
     "name": "stdout",
     "output_type": "stream",
     "text": [
      "Documents successfully added to the vector store!\n",
      "All documents in the victor store:\n",
      "Their sister's name is Jane.\n",
      "Their mother's name is Jean.\n",
      "They use AWS for cloud services.\n",
      "Their grandather's name is Alex.\n",
      "4 documents added to the vector store.\n"
     ]
    }
   ],
   "source": [
    "from swarmauri.vector_stores.concrete.TfidfVectorStore import TfidfVectorStore\n",
    "from swarmauri.documents.concrete.Document import Document\n",
    "\n",
    "vector_store= TfidfVectorStore()\n",
    "\n",
    "documents = [Document(content=\"Their sister's name is Jane.\"),\n",
    "    Document(content=\"Their mother's name is Jean.\"),\n",
    "    Document(content=\"They use AWS for cloud services.\"),\n",
    "    Document(content=\"Their grandather's name is Alex.\")]\n",
    "\n",
    "# Adding documents to the store\n",
    "vector_store.add_documents(documents)\n",
    "\n",
    "print(\"Documents successfully added to the vector store!\")\n",
    "\n",
    "# Retrieve and print all documents\n",
    "all_docs = vector_store.get_all_documents()\n",
    "print(\"All documents in the victor store:\")\n",
    "for doc in all_docs:\n",
    "    print(doc.content)\n",
    "\n",
    "print(f\"{len(vector_store.documents)} documents added to the vector store.\")"
   ]
  },
  {
   "cell_type": "markdown",
   "id": "a1dcb4ce-6cdb-46e1-89d8-e2cc3e4a8784",
   "metadata": {},
   "source": [
    "# Building the RAG Agent"
   ]
  },
  {
   "cell_type": "markdown",
   "id": "04dacca1-95cc-49c6-8df8-0aa410925327",
   "metadata": {},
   "source": [
    "First step is setting up vector store to hold external knowledge in document form. RAG agent will use store to retrieve relevant info during query processing."
   ]
  },
  {
   "cell_type": "code",
   "execution_count": 10,
   "id": "1d56eb6e-be5a-4d37-b6b4-fb41a74bd3b0",
   "metadata": {},
   "outputs": [],
   "source": [
    "from swarmauri.conversations.concrete.MaxSystemContextConversation import MaxSystemContextConversation\n",
    "from swarmauri.messages.concrete.SystemMessage import SystemMessage\n",
    "from swarmauri.messages.concrete.HumanMessage import HumanMessage"
   ]
  },
  {
   "cell_type": "code",
   "execution_count": 11,
   "id": "26fef097-db4b-4060-819f-05d10e09b94b",
   "metadata": {},
   "outputs": [],
   "source": [
    "# Create a system mesage\n",
    "system_context = SystemMessage(content=\"Your name is Jeff.\")"
   ]
  },
  {
   "cell_type": "code",
   "execution_count": 12,
   "id": "031a4312-a03f-49cd-be1d-93d7c1af97b9",
   "metadata": {},
   "outputs": [],
   "source": [
    "# Initialize the conversation\n",
    "conversation = MaxSystemContextConversation(system_context=system_context, max_size=4)"
   ]
  },
  {
   "cell_type": "code",
   "execution_count": 13,
   "id": "02da80ab-b8c3-4cb1-87e2-489362483769",
   "metadata": {},
   "outputs": [],
   "source": [
    "# Add a user message\n",
    "user_message = HumanMessage(content=\"What is my name?\")\n",
    "conversation.add_message(user_message)"
   ]
  },
  {
   "cell_type": "code",
   "execution_count": 14,
   "id": "a6a036a6-9e97-4666-8ee3-a1d23898e2f3",
   "metadata": {},
   "outputs": [
    {
     "name": "stdout",
     "output_type": "stream",
     "text": [
      "Current conversation history:\n",
      "Your name is Jeff.\n",
      "What is my name?\n"
     ]
    }
   ],
   "source": [
    "# Print the current converstion context\n",
    "print(\"Current conversation history:\")\n",
    "for message in conversation.history:\n",
    "    print(message.content)"
   ]
  },
  {
   "cell_type": "markdown",
   "id": "75d2f0db-f51d-4a01-b232-7bfd3fc40865",
   "metadata": {},
   "source": [
    "Integrating the Language Model (LLM)"
   ]
  },
  {
   "cell_type": "code",
   "execution_count": 16,
   "id": "0feb9525-dc0e-47da-84a6-7a225ad3aef0",
   "metadata": {},
   "outputs": [
    {
     "data": {
      "text/plain": [
       "True"
      ]
     },
     "execution_count": 16,
     "metadata": {},
     "output_type": "execute_result"
    }
   ],
   "source": [
    "import os\n",
    "from swarmauri.llms.concrete.GroqModel import GroqModel as LLM\n",
    "from swarmauri.conversations.concrete.Conversation import Conversation\n",
    "from dotenv import load_dotenv\n",
    "\n",
    "\n",
    "load_dotenv()"
   ]
  },
  {
   "cell_type": "code",
   "execution_count": 17,
   "id": "83d48138-acaf-4e78-8875-fda458b22126",
   "metadata": {},
   "outputs": [
    {
     "name": "stdout",
     "output_type": "stream",
     "text": [
      "LLM Initialized Successfully\n"
     ]
    }
   ],
   "source": [
    "API_KEY = os.getenv(\"GROQ_API_KEY\")\n",
    "if API_KEY:\n",
    "    llm = GroqModel(api_key=API_KEY)\n",
    "    print(\"LLM Initialized Successfully\")\n",
    "else:\n",
    "    print(\"API Key not found!\")"
   ]
  },
  {
   "cell_type": "markdown",
   "id": "9e1633a3-34bb-4aad-891f-683645824f22",
   "metadata": {},
   "source": [
    "Function to get allowed models"
   ]
  },
  {
   "cell_type": "code",
   "execution_count": 19,
   "id": "4f03bc2b-e5b6-4adf-be85-2e440357a28a",
   "metadata": {},
   "outputs": [],
   "source": [
    "# Function to get allowed models, filtering out failing ones\n",
    "def get_allowed_models(llm):\n",
    "    failing_llms = [\n",
    "        \"llama3-70b-8192\",\n",
    "        \"llama3.2-90b-text-preview\",\n",
    "        \"mixtral-8x7b-32768\",\n",
    "        \"llava-v1.5-7b-4096-preview\",\n",
    "        \"llama-guard-3-8b\"\n",
    "    ]\n",
    "    return [model for model in llm.allowed_models if model not in failing_llms]"
   ]
  },
  {
   "cell_type": "code",
   "execution_count": 20,
   "id": "32549ea7-b523-4f9f-a3ed-511cfe5452d9",
   "metadata": {},
   "outputs": [],
   "source": [
    "# Initialize the GroqModel\n",
    "llm = LLM(api_key=API_KEY)"
   ]
  },
  {
   "cell_type": "code",
   "execution_count": 21,
   "id": "17b74f72-e0ab-4147-8e23-790df81e5027",
   "metadata": {},
   "outputs": [
    {
     "name": "stdout",
     "output_type": "stream",
     "text": [
      "Resource: LLM\n",
      "Type: GroqModel\n",
      "Default Name: gemma-7b-it\n"
     ]
    }
   ],
   "source": [
    "# Print model informaion\n",
    "print(f\"Resource: {llm.resource}\")\n",
    "print(f\"Type: {llm.type}\")\n",
    "print(f\"Default Name: {llm.name}\")"
   ]
  },
  {
   "cell_type": "code",
   "execution_count": 22,
   "id": "28c4b6ab-6f8d-46cb-989a-5c57e463641c",
   "metadata": {},
   "outputs": [
    {
     "name": "stdout",
     "output_type": "stream",
     "text": [
      "Allowed Models: ['gemma-7b-it', 'gemma2-9b-it', 'llama-3.1-70b-versatile', 'llama-3.1-8b-instant', 'llama-3.2-11b-text-preview', 'llama-3.2-1b-preview', 'llama-3.2-3b-preview', 'llama-3.2-90b-text-preview', 'llama3-8b-8192', 'llama3-groq-70b-8192-tool-use-preview', 'llama3-groq-8b-8192-tool-use-preview']\n"
     ]
    }
   ],
   "source": [
    "# Get allowed models\n",
    "allowed_models = get_allowed_models(llm)\n",
    "print(\"Allowed Models:\", allowed_models)"
   ]
  },
  {
   "cell_type": "markdown",
   "id": "065e76cc-6817-470a-b05a-435ee624fcec",
   "metadata": {},
   "source": [
    "Example usage with no system context"
   ]
  },
  {
   "cell_type": "code",
   "execution_count": 24,
   "id": "74123e45-1d1d-4bfb-9c5e-cc46ba54c8d0",
   "metadata": {},
   "outputs": [],
   "source": [
    "# Set the model name to the first available allowed model\n",
    "llm.name = allowed_models[0]"
   ]
  },
  {
   "cell_type": "code",
   "execution_count": 25,
   "id": "0edbb90e-2b83-423e-9148-e22e241c25c5",
   "metadata": {},
   "outputs": [],
   "source": [
    "# Create conversation\n",
    "conversation = Conversation()"
   ]
  },
  {
   "cell_type": "code",
   "execution_count": 26,
   "id": "2c6e8a5c-f2ee-4b6c-9ae3-a9505f1a3799",
   "metadata": {},
   "outputs": [],
   "source": [
    "# Add a human message\n",
    "input_data = \"Hello\"\n",
    "human_message = HumanMessage(content=input_data)\n",
    "conversation.add_message(human_message)"
   ]
  },
  {
   "cell_type": "code",
   "execution_count": 27,
   "id": "85272e0a-1a4e-4266-b5b3-96f733dbfbb9",
   "metadata": {},
   "outputs": [
    {
     "name": "stdout",
     "output_type": "stream",
     "text": [
      "Prediction with no system context for gemma-7b-it: Hello! 👋 It's great to hear from you. How can I help you today? 😊\n"
     ]
    }
   ],
   "source": [
    "# Predict response\n",
    "llm.predict(conversation=conversation)\n",
    "prediction = conversation.get_last().content\n",
    "print(f\"Prediction with no system context for {llm.name}: {prediction}\")"
   ]
  },
  {
   "cell_type": "markdown",
   "id": "c441664e-c127-4051-b894-3010738d2440",
   "metadata": {},
   "source": [
    "Example Usage with a System Context"
   ]
  },
  {
   "cell_type": "code",
   "execution_count": 29,
   "id": "353fe4a7-5026-4b89-ab47-66752a69fd70",
   "metadata": {},
   "outputs": [],
   "source": [
    "# Example usage with a system context\n",
    "system_context = \"You are an assistant that provides answers to the user.\"\n",
    "conversation = MaxSystemContextConversation(system_context=SystemMessage(content=system_context), max_size=2)"
   ]
  },
  {
   "cell_type": "code",
   "execution_count": 30,
   "id": "2884d8f9-894a-4cae-8aa2-5fab3b3373b2",
   "metadata": {},
   "outputs": [],
   "source": [
    "# Create a human message with the content \"Hi\" and add it to the conversation\n",
    "human_message = HumanMessage(content=\"Hi\")\n",
    "conversation.add_message(human_message)"
   ]
  },
  {
   "cell_type": "code",
   "execution_count": 31,
   "id": "76b0a961-c2f7-4a4f-ba90-ae50a71e1c8c",
   "metadata": {},
   "outputs": [
    {
     "name": "stdout",
     "output_type": "stream",
     "text": [
      "Prediction with no system context for gemma-7b-it: Greetings! I am ready to assist you with any questions or tasks you may have. How can I help you today?\n"
     ]
    }
   ],
   "source": [
    "# Predict response\n",
    "llm.predict(conversation=conversation)\n",
    "prediction = conversation.get_last().content\n",
    "print(f\"Prediction with no system context for {llm.name}: {prediction}\")"
   ]
  },
  {
   "cell_type": "markdown",
   "id": "d641f9e3-c388-468a-b7ca-ab687bfc94a9",
   "metadata": {},
   "source": [
    "Building the RAG Agent"
   ]
  },
  {
   "cell_type": "code",
   "execution_count": 33,
   "id": "4173075a-2cbf-4d57-b03b-eeb349518cb9",
   "metadata": {},
   "outputs": [],
   "source": [
    "from swarmauri.agents.concrete.RagAgent import RagAgent"
   ]
  },
  {
   "cell_type": "code",
   "execution_count": 34,
   "id": "9d82b72d-2932-4ffd-9354-b5f92bed01f6",
   "metadata": {},
   "outputs": [],
   "source": [
    "# Created a new system context for the Rag Agent\n",
    "rag_system_context = \"You are an assistant that provides answers to the user. You utilize the details below:\"\n",
    "# Create a new conversation for RAG Agent\n",
    "rag_conversation = MaxSystemContextConversation(system_context=SystemMessage(content=rag_system_context), max_size=4)\n",
    "\n",
    "# Initialize the RAG Agent by combining LLM, conversation and vector store\n",
    "rag_agent = RagAgent(\n",
    "    llm = llm,\n",
    "    conversation = rag_conversation,\n",
    "    system_context=rag_system_context,\n",
    "    vector_store=vector_store,\n",
    ")"
   ]
  },
  {
   "cell_type": "markdown",
   "id": "85dcdf1a-e2aa-468a-a978-ca10efa51e02",
   "metadata": {},
   "source": [
    "Handling Queries with the RAG Agent"
   ]
  },
  {
   "cell_type": "code",
   "execution_count": 36,
   "id": "90b60744-d9a6-4abc-92f6-1ebda11207ad",
   "metadata": {},
   "outputs": [
    {
     "name": "stdout",
     "output_type": "stream",
     "text": [
      "Query: What cloud service do they use?\n",
      "RAG Agent Response: The provided text does not include information regarding the specific cloud service used by the user, so I am unable to answer this question from the given context.\n",
      "\n",
      "Query: What is their mother's name?\n",
      "RAG Agent Response: Their mother's name is Jean.\n",
      "\n"
     ]
    }
   ],
   "source": [
    "# Test the agent with different queris\n",
    "queries = [\n",
    "    \"What cloud service do they use?\",\n",
    "    \"What is their mother's name?\",\n",
    "]\n",
    "\n",
    "for query in queries:\n",
    "    response = rag_agent.exec(query)\n",
    "    print(f\"Query: {query}\\nRAG Agent Response: {response}\\n\")"
   ]
  },
  {
   "cell_type": "code",
   "execution_count": 37,
   "id": "a9c8046b-1c63-4c2a-8097-38d7a712f545",
   "metadata": {},
   "outputs": [
    {
     "name": "stdout",
     "output_type": "stream",
     "text": [
      "aext-assistant @ file:///private/var/folders/c_/qfmhj66j0tn016nkx_th4hxm0000gp/T/abs_24994515xd/croot/aext-assistant_1717062163042/work\n",
      "aext-assistant-server @ file:///private/var/folders/sy/f16zz6x50xz3113nwtb9bvq00000gp/T/abs_4boob09gv8/croot/aext-assistant-server_1717059973985/work\n",
      "aext-core @ file:///private/var/folders/sy/f16zz6x50xz3113nwtb9bvq00000gp/T/abs_3etmw5tx6d/croot/aext-core_1717056386167/work\n",
      "aext-core-server @ file:///private/var/folders/c_/qfmhj66j0tn016nkx_th4hxm0000gp/T/abs_68sv0mesk_/croot/aext-core-server_1717075032630/work\n",
      "aext-panels @ file:///private/var/folders/c_/qfmhj66j0tn016nkx_th4hxm0000gp/T/abs_892vjkdux1/croot/aext-panels_1717062179502/work\n",
      "aext-panels-server @ file:///private/var/folders/c_/qfmhj66j0tn016nkx_th4hxm0000gp/T/abs_7cdpxd64im/croot/aext-panels-server_1717060126704/work\n",
      "aext-share-notebook @ file:///private/var/folders/sy/f16zz6x50xz3113nwtb9bvq00000gp/T/abs_e5jlgefh0_/croot/aext-share-notebook_1717059291973/work\n",
      "aext-share-notebook-server @ file:///private/var/folders/sy/f16zz6x50xz3113nwtb9bvq00000gp/T/abs_9fjepxgus_/croot/aext-share-notebook-server_1717057945219/work\n",
      "aext-shared @ file:///private/var/folders/sy/f16zz6x50xz3113nwtb9bvq00000gp/T/abs_b8kj3d7nes/croot/aext-shared_1716991096609/work\n",
      "aiobotocore @ file:///private/var/folders/sy/f16zz6x50xz3113nwtb9bvq00000gp/T/abs_d5vpncfh71/croot/aiobotocore_1714464397445/work\n",
      "aiohappyeyeballs @ file:///private/var/folders/c_/qfmhj66j0tn016nkx_th4hxm0000gp/T/abs_15gsua8xj2/croot/aiohappyeyeballs_1725434021301/work\n",
      "aiohttp @ file:///private/var/folders/sy/f16zz6x50xz3113nwtb9bvq00000gp/T/abs_09lqy3yoen/croot/aiohttp_1725527765804/work\n",
      "aioitertools @ file:///tmp/build/80754af9/aioitertools_1607109665762/work\n",
      "aiosignal @ file:///tmp/build/80754af9/aiosignal_1637843061372/work\n",
      "alabaster @ file:///private/var/folders/c_/qfmhj66j0tn016nkx_th4hxm0000gp/T/abs_fadeblw4_u/croot/alabaster_1718201487017/work\n",
      "altair @ file:///Users/builder/cbouss/perseverance-python-buildout/croot/altair_1699283258090/work\n",
      "anaconda-anon-usage @ file:///private/var/folders/sy/f16zz6x50xz3113nwtb9bvq00000gp/T/abs_b9r8fbjsvb/croot/anaconda-anon-usage_1710965086703/work\n",
      "anaconda-catalogs @ file:///Users/builder/cbouss/perseverance-python-buildout/croot/anaconda-catalogs_1707347535535/work\n",
      "anaconda-client @ file:///private/var/folders/c_/qfmhj66j0tn016nkx_th4hxm0000gp/T/abs_4b0movhtkt/croot/anaconda-client_1708643341618/work\n",
      "anaconda-cloud-auth @ file:///private/var/folders/sy/f16zz6x50xz3113nwtb9bvq00000gp/T/abs_2fcwl3hx32/croot/anaconda-cloud-auth_1713991390572/work\n",
      "anaconda-navigator @ file:///private/var/folders/c_/qfmhj66j0tn016nkx_th4hxm0000gp/T/abs_f16zd04fsw/croot/anaconda-navigator_1727709709743/work\n",
      "anaconda-project @ file:///private/var/folders/sy/f16zz6x50xz3113nwtb9bvq00000gp/T/abs_12_wppfswu/croot/anaconda-project_1706049206816/work\n",
      "annotated-types @ file:///private/var/folders/c_/qfmhj66j0tn016nkx_th4hxm0000gp/T/abs_fbh4enbns2/croot/annotated-types_1709542919423/work\n",
      "anyio @ file:///private/var/folders/c_/qfmhj66j0tn016nkx_th4hxm0000gp/T/abs_646d7rz2z6/croot/anyio_1706220176177/work\n",
      "appdirs==1.4.4\n",
      "applaunchservices @ file:///private/var/folders/sy/f16zz6x50xz3113nwtb9bvq00000gp/T/abs_7cw09cjfjy/croot/applaunchservices_1710249794279/work\n",
      "appnope @ file:///Users/builder/cbouss/perseverance-python-buildout/croot/appnope_1699320997592/work\n",
      "appscript @ file:///private/var/folders/c_/qfmhj66j0tn016nkx_th4hxm0000gp/T/abs_3ao9zdin6c/croot/appscript_1725388755161/work\n",
      "archspec @ file:///croot/archspec_1709217642129/work\n",
      "argon2-cffi @ file:///opt/conda/conda-bld/argon2-cffi_1645000214183/work\n",
      "argon2-cffi-bindings @ file:///Users/builder/cbouss/perseverance-python-buildout/croot/argon2-cffi-bindings_1699264521425/work\n",
      "arrow @ file:///Users/builder/cbouss/perseverance-python-buildout/croot/arrow_1699264564853/work\n",
      "astroid @ file:///Users/builder/cbouss/perseverance-python-buildout/croot/astroid_1699245291542/work\n",
      "astropy @ file:///private/var/folders/c_/qfmhj66j0tn016nkx_th4hxm0000gp/T/abs_b89rq1k_rm/croot/astropy_1726174615721/work\n",
      "astropy-iers-data @ file:///private/var/folders/sy/f16zz6x50xz3113nwtb9bvq00000gp/T/abs_fag9s9no07/croot/astropy-iers-data_1726000544957/work\n",
      "asttokens @ file:///opt/conda/conda-bld/asttokens_1646925590279/work\n",
      "async-lru @ file:///Users/builder/cbouss/perseverance-python-buildout/croot/async-lru_1701806219228/work\n",
      "atomicwrites==1.4.0\n",
      "attrs @ file:///Users/builder/cbouss/perseverance-python-buildout/croot/attrs_1699282013651/work\n",
      "Automat @ file:///tmp/build/80754af9/automat_1600298431173/work\n",
      "autopep8 @ file:///croot/autopep8_1708962882016/work\n",
      "Babel @ file:///Users/builder/cbouss/perseverance-python-buildout/croot/babel_1699247663878/work\n",
      "bcrypt @ file:///Users/builder/cbouss/perseverance-python-buildout/croot/bcrypt_1699247772835/work\n",
      "beautifulsoup4 @ file:///private/var/folders/sy/f16zz6x50xz3113nwtb9bvq00000gp/T/abs_74rj45rt1p/croot/beautifulsoup4-split_1718029835783/work\n",
      "binaryornot @ file:///tmp/build/80754af9/binaryornot_1617751525010/work\n",
      "black @ file:///private/var/folders/sy/f16zz6x50xz3113nwtb9bvq00000gp/T/abs_bf0nk5tyan/croot/black_1725573867948/work\n",
      "bleach @ file:///opt/conda/conda-bld/bleach_1641577558959/work\n",
      "blinker @ file:///Users/builder/cbouss/perseverance-python-buildout/croot/blinker_1699240468146/work\n",
      "bokeh @ file:///private/var/folders/c_/qfmhj66j0tn016nkx_th4hxm0000gp/T/abs_7896bxssvv/croot/bokeh_1727914489991/work\n",
      "boltons @ file:///Users/builder/cbouss/perseverance-python-buildout/croot/boltons_1699245321609/work\n",
      "botocore @ file:///private/var/folders/c_/qfmhj66j0tn016nkx_th4hxm0000gp/T/abs_ffxxgfgg06/croot/botocore_1714460536101/work\n",
      "Bottleneck @ file:///private/var/folders/c_/qfmhj66j0tn016nkx_th4hxm0000gp/T/abs_19gnn4b1vz/croot/bottleneck_1709069916591/work\n",
      "Brotli @ file:///private/var/folders/c_/qfmhj66j0tn016nkx_th4hxm0000gp/T/abs_67j4p18ie3/croot/brotli-split_1714483158198/work\n",
      "cachetools @ file:///private/var/folders/c_/qfmhj66j0tn016nkx_th4hxm0000gp/T/abs_dd5gv9zyno/croot/cachetools_1713977103134/work\n",
      "certifi @ file:///private/var/folders/sy/f16zz6x50xz3113nwtb9bvq00000gp/T/abs_c7dh9wvd8f/croot/certifi_1725551679893/work/certifi\n",
      "cffi @ file:///private/var/folders/sy/f16zz6x50xz3113nwtb9bvq00000gp/T/abs_a1n4t3qsjy/croot/cffi_1726856449083/work\n",
      "chardet @ file:///Users/builder/cbouss/perseverance-python-buildout/croot/chardet_1699252638625/work\n",
      "charset-normalizer @ file:///croot/charset-normalizer_1721748349566/work\n",
      "click @ file:///Users/builder/cbouss/perseverance-python-buildout/croot/click_1699239792454/work\n",
      "cloudpickle @ file:///private/var/folders/sy/f16zz6x50xz3113nwtb9bvq00000gp/T/abs_ccg_cjom9o/croot/cloudpickle_1721657358298/work\n",
      "colorama @ file:///Users/builder/cbouss/perseverance-python-buildout/croot/colorama_1699282337864/work\n",
      "colorcet @ file:///private/var/folders/sy/f16zz6x50xz3113nwtb9bvq00000gp/T/abs_db11vs0_s8/croot/colorcet_1709758355147/work\n",
      "comm @ file:///private/var/folders/sy/f16zz6x50xz3113nwtb9bvq00000gp/T/abs_aef2nlxc2o/croot/comm_1709322866518/work\n",
      "conda @ file:///private/var/folders/sy/f16zz6x50xz3113nwtb9bvq00000gp/T/abs_d12oqipwuh/croot/conda_1729193905986/work\n",
      "conda-build @ file:///private/var/folders/c_/qfmhj66j0tn016nkx_th4hxm0000gp/T/abs_63_707h1h3/croot/conda-build_1726839926400/work\n",
      "conda-content-trust @ file:///private/var/folders/sy/f16zz6x50xz3113nwtb9bvq00000gp/T/abs_78eyko59n2/croot/conda-content-trust_1714483158098/work\n",
      "conda-libmamba-solver @ file:///croot/conda-libmamba-solver_1727775630457/work/src\n",
      "conda-pack @ file:///private/var/folders/c_/qfmhj66j0tn016nkx_th4hxm0000gp/T/abs_42kx1rpy5f/croot/conda-pack_1710258029312/work\n",
      "conda-package-handling @ file:///private/var/folders/c_/qfmhj66j0tn016nkx_th4hxm0000gp/T/abs_e9wolypncd/croot/conda-package-handling_1718138274564/work\n",
      "conda-repo-cli @ file:///private/var/folders/c_/qfmhj66j0tn016nkx_th4hxm0000gp/T/abs_64hfjmrm1x/croot/conda-repo-cli_1727366908212/work\n",
      "conda-token @ file:///croot/conda-token_1718995751285/work\n",
      "conda_index @ file:///private/var/folders/sy/f16zz6x50xz3113nwtb9bvq00000gp/T/abs_1a_659ifgv/croot/conda-index_1719338235019/work\n",
      "conda_package_streaming @ file:///private/var/folders/c_/qfmhj66j0tn016nkx_th4hxm0000gp/T/abs_ffn0m80aez/croot/conda-package-streaming_1718136091119/work\n",
      "constantly @ file:///private/var/folders/sy/f16zz6x50xz3113nwtb9bvq00000gp/T/abs_37us04na64/croot/constantly_1703165604710/work\n",
      "contourpy @ file:///Users/builder/cbouss/perseverance-python-buildout/croot/contourpy_1707340536404/work\n",
      "cookiecutter @ file:///private/var/folders/sy/f16zz6x50xz3113nwtb9bvq00000gp/T/abs_bepfulf80r/croot/cookiecutter_1711059824667/work\n",
      "cryptography @ file:///private/var/folders/c_/qfmhj66j0tn016nkx_th4hxm0000gp/T/abs_252z5r7hox/croot/cryptography_1724940564153/work\n",
      "cssselect @ file:///private/var/folders/c_/qfmhj66j0tn016nkx_th4hxm0000gp/T/abs_b5i_2e8lvm/croot/cssselect_1707339893171/work\n",
      "cycler @ file:///tmp/build/80754af9/cycler_1637851556182/work\n",
      "cytoolz @ file:///private/var/folders/c_/qfmhj66j0tn016nkx_th4hxm0000gp/T/abs_46i_inkrxd/croot/cytoolz_1701729348812/work\n",
      "dask @ file:///private/var/folders/sy/f16zz6x50xz3113nwtb9bvq00000gp/T/abs_462kfitsfv/croot/dask-core_1725461365973/work\n",
      "dask-expr @ file:///private/var/folders/c_/qfmhj66j0tn016nkx_th4hxm0000gp/T/abs_51fqnzu7il/croot/dask-expr_1725522998501/work\n",
      "datashader @ file:///private/var/folders/sy/f16zz6x50xz3113nwtb9bvq00000gp/T/abs_c0enpwzygw/croot/datashader_1720533867716/work\n",
      "debugpy @ file:///Users/builder/cbouss/perseverance-python-buildout/croot/debugpy_1699267934478/work\n",
      "decorator @ file:///opt/conda/conda-bld/decorator_1643638310831/work\n",
      "defusedxml @ file:///tmp/build/80754af9/defusedxml_1615228127516/work\n",
      "diff-match-patch @ file:///Users/ktietz/demo/mc3/conda-bld/diff-match-patch_1630511840874/work\n",
      "dill @ file:///private/var/folders/c_/qfmhj66j0tn016nkx_th4hxm0000gp/T/abs_774m4l3azq/croot/dill_1715094674566/work\n",
      "distributed @ file:///private/var/folders/c_/qfmhj66j0tn016nkx_th4hxm0000gp/T/abs_c2f3kpci15/croot/distributed_1725523023216/work\n",
      "distro @ file:///private/var/folders/c_/qfmhj66j0tn016nkx_th4hxm0000gp/T/abs_b5l_bzm_c4/croot/distro_1714488255954/work\n",
      "dmglib @ file:///private/var/folders/sy/f16zz6x50xz3113nwtb9bvq00000gp/T/abs_c274akzxeo/croot/dmglib_1719996269027/work\n",
      "docstring-to-markdown @ file:///Users/builder/cbouss/perseverance-python-buildout/croot/docstring-to-markdown_1699248259185/work\n",
      "docutils @ file:///Users/builder/cbouss/perseverance-python-buildout/croot/docutils_1699240610068/work\n",
      "et-xmlfile @ file:///Users/builder/cbouss/perseverance-python-buildout/croot/et_xmlfile_1699253278402/work\n",
      "executing @ file:///opt/conda/conda-bld/executing_1646925071911/work\n",
      "fastjsonschema @ file:///Users/builder/cbouss/perseverance-python-buildout/croot/python-fastjsonschema_1699241084188/work\n",
      "filelock @ file:///Users/builder/cbouss/perseverance-python-buildout/croot/filelock_1701807880662/work\n",
      "flake8 @ file:///private/var/folders/c_/qfmhj66j0tn016nkx_th4hxm0000gp/T/abs_165ba74yi9/croot/flake8_1708965268668/work\n",
      "Flask @ file:///private/var/folders/sy/f16zz6x50xz3113nwtb9bvq00000gp/T/abs_0bn8z9nupr/croot/flask_1716545880759/work\n",
      "fonttools @ file:///private/var/folders/sy/f16zz6x50xz3113nwtb9bvq00000gp/T/abs_801fru8lup/croot/fonttools_1713551493489/work\n",
      "frozendict @ file:///private/var/folders/sy/f16zz6x50xz3113nwtb9bvq00000gp/T/abs_f2kfyv072k/croot/frozendict_1713194840232/work\n",
      "frozenlist @ file:///Users/builder/cbouss/perseverance-python-buildout/croot/frozenlist_1699270045305/work\n",
      "fsspec @ file:///private/var/folders/c_/qfmhj66j0tn016nkx_th4hxm0000gp/T/abs_4547s6nuzv/croot/fsspec_1724855593592/work\n",
      "gensim @ file:///private/var/folders/c_/qfmhj66j0tn016nkx_th4hxm0000gp/T/abs_b6gb6lpj3r/croot/gensim_1725057958979/work\n",
      "gitdb @ file:///tmp/build/80754af9/gitdb_1617117951232/work\n",
      "GitPython @ file:///private/var/folders/sy/f16zz6x50xz3113nwtb9bvq00000gp/T/abs_f76uw0_f83/croot/gitpython_1720455038091/work\n",
      "greenlet @ file:///private/var/folders/sy/f16zz6x50xz3113nwtb9bvq00000gp/T/abs_10cuim1il_/croot/greenlet_1702059962773/work\n",
      "groq==0.11.0\n",
      "h11 @ file:///private/var/folders/c_/qfmhj66j0tn016nkx_th4hxm0000gp/T/abs_14h6x3q_k6/croot/h11_1706652288187/work\n",
      "h5py @ file:///private/var/folders/c_/qfmhj66j0tn016nkx_th4hxm0000gp/T/abs_3cp9aol8sr/croot/h5py_1715094733268/work\n",
      "HeapDict @ file:///Users/ktietz/demo/mc3/conda-bld/heapdict_1630598515714/work\n",
      "holoviews @ file:///private/var/folders/sy/f16zz6x50xz3113nwtb9bvq00000gp/T/abs_82wr3h7dd2/croot/holoviews_1720533866606/work\n",
      "httpcore @ file:///private/var/folders/sy/f16zz6x50xz3113nwtb9bvq00000gp/T/abs_2ek8c13vuv/croot/httpcore_1706728466947/work\n",
      "httpx @ file:///private/var/folders/sy/f16zz6x50xz3113nwtb9bvq00000gp/T/abs_74uqix89pr/croot/httpx_1723474816711/work\n",
      "hvplot @ file:///private/var/folders/c_/qfmhj66j0tn016nkx_th4hxm0000gp/T/abs_46pz8eg3o1/croot/hvplot_1727775575881/work\n",
      "hyperlink @ file:///tmp/build/80754af9/hyperlink_1610130746837/work\n",
      "idna @ file:///private/var/folders/c_/qfmhj66j0tn016nkx_th4hxm0000gp/T/abs_2b_jn555_n/croot/idna_1714398852258/work\n",
      "imagecodecs @ file:///Users/builder/cbouss/perseverance-python-buildout/croot/imagecodecs_1699246061276/work\n",
      "imageio @ file:///private/var/folders/sy/f16zz6x50xz3113nwtb9bvq00000gp/T/abs_372o7sf2ih/croot/imageio_1707247292144/work\n",
      "imagesize @ file:///Users/builder/cbouss/perseverance-python-buildout/croot/imagesize_1699248453520/work\n",
      "imbalanced-learn @ file:///private/var/folders/c_/qfmhj66j0tn016nkx_th4hxm0000gp/T/abs_f7f82plidb/croot/imbalanced-learn_1718132239875/work\n",
      "importlib-metadata @ file:///private/var/folders/sy/f16zz6x50xz3113nwtb9bvq00000gp/T/abs_37pdw0fbft/croot/importlib_metadata-suite_1704813531185/work\n",
      "incremental @ file:///croot/incremental_1708639938299/work\n",
      "inflection @ file:///Users/builder/cbouss/perseverance-python-buildout/croot/inflection_1699253852576/work\n",
      "iniconfig @ file:///home/linux1/recipes/ci/iniconfig_1610983019677/work\n",
      "intake @ file:///private/var/folders/sy/f16zz6x50xz3113nwtb9bvq00000gp/T/abs_a67pfhqaxk/croot/intake_1726109586816/work\n",
      "intervaltree @ file:///Users/ktietz/demo/mc3/conda-bld/intervaltree_1630511889664/work\n",
      "ipykernel @ file:///private/var/folders/sy/f16zz6x50xz3113nwtb9bvq00000gp/T/abs_02wd6dgggf/croot/ipykernel_1705933834674/work\n",
      "ipython @ file:///private/var/folders/c_/qfmhj66j0tn016nkx_th4hxm0000gp/T/abs_87xjefcpgk/croot/ipython_1726064241225/work\n",
      "ipython-genutils @ file:///tmp/build/80754af9/ipython_genutils_1606773439826/work\n",
      "ipywidgets @ file:///private/var/folders/sy/f16zz6x50xz3113nwtb9bvq00000gp/T/abs_96e0a42kgq/croot/ipywidgets_1710961507355/work\n",
      "isort @ file:///private/var/folders/c_/qfmhj66j0tn016nkx_th4hxm0000gp/T/abs_fcfm_7m3va/croot/isort_1718290126180/work\n",
      "itemadapter @ file:///tmp/build/80754af9/itemadapter_1626442940632/work\n",
      "itemloaders @ file:///private/var/folders/sy/f16zz6x50xz3113nwtb9bvq00000gp/T/abs_e1nzju_zur/croot/itemloaders_1708642351186/work\n",
      "itsdangerous @ file:///private/var/folders/c_/qfmhj66j0tn016nkx_th4hxm0000gp/T/abs_f7bt4rtvu8/croot/itsdangerous_1716533350521/work\n",
      "jaraco.classes @ file:///tmp/build/80754af9/jaraco.classes_1620983179379/work\n",
      "jedi @ file:///private/var/folders/sy/f16zz6x50xz3113nwtb9bvq00000gp/T/abs_dc59flyfgj/croot/jedi_1721058355050/work\n",
      "jellyfish @ file:///Users/builder/cbouss/perseverance-python-buildout/croot/jellyfish_1699271558388/work\n",
      "Jinja2 @ file:///private/var/folders/sy/f16zz6x50xz3113nwtb9bvq00000gp/T/abs_e3k_d_nbx2/croot/jinja2_1716993406587/work\n",
      "jmespath @ file:///Users/builder/cbouss/perseverance-python-buildout/croot/jmespath_1701807918873/work\n",
      "joblib @ file:///private/var/folders/c_/qfmhj66j0tn016nkx_th4hxm0000gp/T/abs_825_m6wwnf/croot/joblib_1718217221510/work\n",
      "json5 @ file:///tmp/build/80754af9/json5_1624432770122/work\n",
      "jsonpatch @ file:///private/var/folders/sy/f16zz6x50xz3113nwtb9bvq00000gp/T/abs_9dcqemvl4v/croot/jsonpatch_1714483445583/work\n",
      "jsonpointer==2.1\n",
      "jsonschema @ file:///private/var/folders/sy/f16zz6x50xz3113nwtb9bvq00000gp/T/abs_20pyq8pymy/croot/jsonschema_1728486714853/work\n",
      "jsonschema-specifications @ file:///Users/builder/cbouss/perseverance-python-buildout/croot/jsonschema-specifications_1701805291791/work\n",
      "jupyter @ file:///private/var/folders/sy/f16zz6x50xz3113nwtb9bvq00000gp/T/abs_fegm4004xa/croot/jupyter_1709837195369/work\n",
      "jupyter-console @ file:///Users/builder/cbouss/perseverance-python-buildout/croot/jupyter_console_1707339870359/work\n",
      "jupyter-events @ file:///private/var/folders/sy/f16zz6x50xz3113nwtb9bvq00000gp/T/abs_0ahkeborfn/croot/jupyter_events_1718738118710/work\n",
      "jupyter-lsp @ file:///Users/builder/cbouss/perseverance-python-buildout/croot/jupyter-lsp-meta_1707339505175/work\n",
      "jupyter_client @ file:///Users/builder/cbouss/perseverance-python-buildout/croot/jupyter_client_1701805419641/work\n",
      "jupyter_core @ file:///private/var/folders/c_/qfmhj66j0tn016nkx_th4hxm0000gp/T/abs_80l8bw91xp/croot/jupyter_core_1718818299834/work\n",
      "jupyter_server @ file:///private/var/folders/c_/qfmhj66j0tn016nkx_th4hxm0000gp/T/abs_d76py1hq6i/croot/jupyter_server_1718827088455/work\n",
      "jupyter_server_terminals @ file:///Users/builder/cbouss/perseverance-python-buildout/croot/jupyter_server_terminals_1701805810278/work\n",
      "jupyterlab @ file:///private/var/folders/c_/qfmhj66j0tn016nkx_th4hxm0000gp/T/abs_9376d80062/croot/jupyterlab_1725895220583/work\n",
      "jupyterlab-pygments @ file:///tmp/build/80754af9/jupyterlab_pygments_1601490720602/work\n",
      "jupyterlab-widgets @ file:///tmp/build/80754af9/jupyterlab_widgets_1609884341231/work\n",
      "jupyterlab_server @ file:///private/var/folders/sy/f16zz6x50xz3113nwtb9bvq00000gp/T/abs_3ak8oma7hk/croot/jupyterlab_server_1725865365518/work\n",
      "keyring @ file:///private/var/folders/sy/f16zz6x50xz3113nwtb9bvq00000gp/T/abs_e21nr4004l/croot/keyring_1709632517485/work\n",
      "kiwisolver @ file:///Users/builder/cbouss/perseverance-python-buildout/croot/kiwisolver_1699242237265/work\n",
      "lazy-object-proxy @ file:///private/var/folders/sy/f16zz6x50xz3113nwtb9bvq00000gp/T/abs_38eefecdl_/croot/lazy-object-proxy_1712908716156/work\n",
      "lazy_loader @ file:///private/var/folders/c_/qfmhj66j0tn016nkx_th4hxm0000gp/T/abs_a1zssksyo7/croot/lazy_loader_1718176750068/work\n",
      "lckr_jupyterlab_variableinspector @ file:///Users/builder/cbouss/perseverance-python-buildout/croot/jupyterlab-variableinspector_1709227705916/work\n",
      "libarchive-c @ file:///croot/python-libarchive-c_1726069797193/work\n",
      "libmambapy @ file:///private/var/folders/c_/qfmhj66j0tn016nkx_th4hxm0000gp/T/abs_4a02f84vcu/croot/mamba-split_1725563372100/work/libmambapy\n",
      "linkify-it-py @ file:///Users/builder/cbouss/perseverance-python-buildout/croot/linkify-it-py_1699272681612/work\n",
      "llvmlite @ file:///private/var/folders/sy/f16zz6x50xz3113nwtb9bvq00000gp/T/abs_bavze7dofs/croot/llvmlite_1720455118375/work\n",
      "lmdb @ file:///Users/builder/cbouss/perseverance-python-buildout/croot/python-lmdb_1699249805759/work\n",
      "locket @ file:///Users/builder/cbouss/perseverance-python-buildout/croot/locket_1699242317717/work\n",
      "lxml @ file:///private/var/folders/c_/qfmhj66j0tn016nkx_th4hxm0000gp/T/abs_71qp4ya1zv/croot/lxml_1722882205284/work\n",
      "lz4 @ file:///Users/builder/cbouss/perseverance-python-buildout/croot/lz4_1699277285327/work\n",
      "Markdown @ file:///Users/builder/cbouss/perseverance-python-buildout/croot/markdown_1699258195715/work\n",
      "markdown-it-py @ file:///Users/builder/cbouss/perseverance-python-buildout/croot/markdown-it-py_1699239904229/work\n",
      "MarkupSafe @ file:///Users/builder/cbouss/perseverance-python-buildout/croot/markupsafe_1707339363573/work\n",
      "matplotlib==3.9.2\n",
      "matplotlib-inline @ file:///Users/builder/cbouss/perseverance-python-buildout/croot/matplotlib-inline_1699248719910/work\n",
      "mccabe @ file:///opt/conda/conda-bld/mccabe_1644221741721/work\n",
      "mdit-py-plugins @ file:///Users/builder/cbouss/perseverance-python-buildout/croot/mdit-py-plugins_1699277479259/work\n",
      "mdurl @ file:///Users/builder/cbouss/perseverance-python-buildout/croot/mdurl_1699239487349/work\n",
      "menuinst @ file:///private/var/folders/sy/f16zz6x50xz3113nwtb9bvq00000gp/T/abs_a2sy2_uynb/croot/menuinst_1723567626367/work\n",
      "mistune @ file:///Users/builder/cbouss/perseverance-python-buildout/croot/mistune_1699277668306/work\n",
      "more-itertools @ file:///private/var/folders/c_/qfmhj66j0tn016nkx_th4hxm0000gp/T/abs_2a3ynnssnf/croot/more-itertools_1727185452190/work\n",
      "mpmath @ file:///Users/builder/cbouss/perseverance-python-buildout/croot/mpmath_1699248969763/work\n",
      "msgpack @ file:///Users/builder/cbouss/perseverance-python-buildout/croot/msgpack-python_1699240003129/work\n",
      "multidict @ file:///private/var/folders/sy/f16zz6x50xz3113nwtb9bvq00000gp/T/abs_be2ue8cvpf/croot/multidict_1701097066549/work\n",
      "multipledispatch @ file:///Users/builder/cbouss/perseverance-python-buildout/croot/multipledispatch_1699240038072/work\n",
      "mypy @ file:///private/var/folders/c_/qfmhj66j0tn016nkx_th4hxm0000gp/T/abs_fdf9si7ocl/croot/mypy-split_1725573897701/work\n",
      "mypy-extensions @ file:///Users/builder/cbouss/perseverance-python-buildout/croot/mypy_extensions_1699246494818/work\n",
      "navigator-updater @ file:///private/var/folders/c_/qfmhj66j0tn016nkx_th4hxm0000gp/T/abs_fbmyiuqlqv/croot/navigator-updater_1718030399532/work\n",
      "nbclient @ file:///Users/builder/cbouss/perseverance-python-buildout/croot/nbclient_1701805585792/work\n",
      "nbconvert @ file:///private/var/folders/sy/f16zz6x50xz3113nwtb9bvq00000gp/T/abs_2eojbpwhtf/croot/nbconvert_1728049972177/work\n",
      "nbformat @ file:///private/var/folders/c_/qfmhj66j0tn016nkx_th4hxm0000gp/T/abs_a83923jn5m/croot/nbformat_1728049884447/work\n",
      "nest-asyncio @ file:///private/var/folders/c_/qfmhj66j0tn016nkx_th4hxm0000gp/T/abs_c44_atq5c1/croot/nest-asyncio_1708532677863/work\n",
      "networkx @ file:///private/var/folders/c_/qfmhj66j0tn016nkx_th4hxm0000gp/T/abs_a3v8naews9/croot/networkx_1720002488636/work\n",
      "nltk @ file:///private/var/folders/c_/qfmhj66j0tn016nkx_th4hxm0000gp/T/abs_aflq6ieo30/croot/nltk_1724427700085/work\n",
      "notebook @ file:///private/var/folders/c_/qfmhj66j0tn016nkx_th4hxm0000gp/T/abs_503eqqjohb/croot/notebook_1727197361613/work\n",
      "notebook_shim @ file:///Users/builder/cbouss/perseverance-python-buildout/croot/notebook-shim_1707339593183/work\n",
      "numba @ file:///private/var/folders/c_/qfmhj66j0tn016nkx_th4hxm0000gp/T/abs_4f8frhozqf/croot/numba_1720540983760/work\n",
      "numexpr @ file:///Users/builder/cbouss/perseverance-python-buildout/croot/numexpr_1699258484110/work\n",
      "numpy @ file:///private/var/folders/c_/qfmhj66j0tn016nkx_th4hxm0000gp/T/abs_b7iptlxgej/croot/numpy_and_numpy_base_1708638622773/work/dist/numpy-1.26.4-cp312-cp312-macosx_10_9_x86_64.whl#sha256=17c6374322464ccb505fe098301a221fc8d08783063c9c532ee2e0ac2b7f4983\n",
      "numpydoc @ file:///private/var/folders/sy/f16zz6x50xz3113nwtb9bvq00000gp/T/abs_47wa5q47gb/croot/numpydoc_1718279184243/work\n",
      "openpyxl @ file:///private/var/folders/sy/f16zz6x50xz3113nwtb9bvq00000gp/T/abs_781kn48vkm/croot/openpyxl_1721752954568/work\n",
      "overrides @ file:///Users/builder/cbouss/perseverance-python-buildout/croot/overrides_1701805937714/work\n",
      "packaging @ file:///private/var/folders/c_/qfmhj66j0tn016nkx_th4hxm0000gp/T/abs_af6w2d9k11/croot/packaging_1720101860461/work\n",
      "pandas @ file:///private/var/folders/c_/qfmhj66j0tn016nkx_th4hxm0000gp/T/abs_f3c5inakly/croot/pandas_1718308972943/work/dist/pandas-2.2.2-cp312-cp312-macosx_10_15_x86_64.whl#sha256=9960ca21ae114c52ceef491ebf7c1d9db8ce9c2e878bd4abbf0b3eea32ac27c2\n",
      "pandocfilters @ file:///opt/conda/conda-bld/pandocfilters_1643405455980/work\n",
      "panel @ file:///private/var/folders/c_/qfmhj66j0tn016nkx_th4hxm0000gp/T/abs_b3qadaetjr/croot/panel_1728066373978/work\n",
      "param @ file:///private/var/folders/sy/f16zz6x50xz3113nwtb9bvq00000gp/T/abs_89e91eq8e8/croot/param_1719347923578/work\n",
      "parsel @ file:///private/var/folders/sy/f16zz6x50xz3113nwtb9bvq00000gp/T/abs_c2cjwk5urk/croot/parsel_1707503456028/work\n",
      "parso @ file:///opt/conda/conda-bld/parso_1641458642106/work\n",
      "partd @ file:///Users/builder/cbouss/perseverance-python-buildout/croot/partd_1699246520888/work\n",
      "pathspec @ file:///Users/builder/cbouss/perseverance-python-buildout/croot/pathspec_1699238563659/work\n",
      "patsy @ file:///private/var/folders/c_/qfmhj66j0tn016nkx_th4hxm0000gp/T/abs_bf8dencwjq/croot/patsy_1718378180646/work\n",
      "pexpect @ file:///tmp/build/80754af9/pexpect_1605563209008/work\n",
      "pickleshare @ file:///tmp/build/80754af9/pickleshare_1606932040724/work\n",
      "pillow @ file:///private/var/folders/sy/f16zz6x50xz3113nwtb9bvq00000gp/T/abs_b6jn17w9_s/croot/pillow_1721059443777/work\n",
      "pkce @ file:///Users/builder/cbouss/perseverance-python-buildout/croot/pkce_1699246575786/work\n",
      "pkginfo @ file:///private/var/folders/sy/f16zz6x50xz3113nwtb9bvq00000gp/T/abs_4696by57ez/croot/pkginfo_1715695991677/work\n",
      "platformdirs @ file:///Users/builder/cbouss/perseverance-python-buildout/croot/platformdirs_1701805067573/work\n",
      "plotly @ file:///private/var/folders/c_/qfmhj66j0tn016nkx_th4hxm0000gp/T/abs_c1x0dovyom/croot/plotly_1726245570087/work\n",
      "pluggy @ file:///Users/builder/cbouss/perseverance-python-buildout/croot/pluggy_1699238591533/work\n",
      "ply @ file:///Users/builder/cbouss/perseverance-python-buildout/croot/ply_1699240091048/work\n",
      "prometheus-client @ file:///Users/builder/cbouss/perseverance-python-buildout/croot/prometheus_client_1699249452887/work\n",
      "prompt-toolkit @ file:///private/var/folders/sy/f16zz6x50xz3113nwtb9bvq00000gp/T/abs_4d8kk9w3ed/croot/prompt-toolkit_1704404354789/work\n",
      "Protego @ file:///tmp/build/80754af9/protego_1598657180827/work\n",
      "protobuf==4.25.3\n",
      "psutil @ file:///Users/builder/cbouss/perseverance-python-buildout/croot/psutil_1699246686105/work\n",
      "ptyprocess @ file:///tmp/build/80754af9/ptyprocess_1609355006118/work/dist/ptyprocess-0.7.0-py2.py3-none-any.whl\n",
      "pure-eval @ file:///opt/conda/conda-bld/pure_eval_1646925070566/work\n",
      "py-cpuinfo @ file:///Users/builder/cbouss/perseverance-python-buildout/croot/py-cpuinfo_1699249517716/work\n",
      "pyarrow @ file:///private/var/folders/sy/f16zz6x50xz3113nwtb9bvq00000gp/T/abs_ccvwkfs7fg/croot/pyarrow_1721664245209/work/python\n",
      "pyasn1 @ file:///Users/ktietz/demo/mc3/conda-bld/pyasn1_1629708007385/work\n",
      "pyasn1-modules==0.2.8\n",
      "pycodestyle @ file:///private/var/folders/sy/f16zz6x50xz3113nwtb9bvq00000gp/T/abs_6cb9kd4hii/croot/pycodestyle_1701910172074/work\n",
      "pycosat @ file:///private/var/folders/sy/f16zz6x50xz3113nwtb9bvq00000gp/T/abs_48rgxrmler/croot/pycosat_1714511500164/work\n",
      "pycparser @ file:///tmp/build/80754af9/pycparser_1636541352034/work\n",
      "pyct @ file:///Users/builder/cbouss/perseverance-python-buildout/croot/pyct_1699259204246/work\n",
      "pycurl @ file:///private/var/folders/c_/qfmhj66j0tn016nkx_th4hxm0000gp/T/abs_92jyejt4ie/croot/pycurl_1725370246813/work\n",
      "pydantic @ file:///private/var/folders/c_/qfmhj66j0tn016nkx_th4hxm0000gp/T/abs_23u6k8wt2i/croot/pydantic_1725040528575/work\n",
      "pydantic_core @ file:///private/var/folders/c_/qfmhj66j0tn016nkx_th4hxm0000gp/T/abs_cb2wzb2ukd/croot/pydantic-core_1724790371118/work\n",
      "pydeck @ file:///private/var/folders/c_/qfmhj66j0tn016nkx_th4hxm0000gp/T/abs_ebg6znt5un/croot/pydeck_1706194073430/work\n",
      "PyDispatcher @ file:///Users/builder/cbouss/perseverance-python-buildout/croot/pydispatcher_1699259231123/work\n",
      "pydocstyle @ file:///Users/builder/cbouss/perseverance-python-buildout/croot/pydocstyle_1699249544175/work\n",
      "pyerfa @ file:///private/var/folders/sy/f16zz6x50xz3113nwtb9bvq00000gp/T/abs_77j8e9ng06/croot/pyerfa_1717700765964/work\n",
      "pyflakes @ file:///private/var/folders/c_/qfmhj66j0tn016nkx_th4hxm0000gp/T/abs_e57cfmjeb3/croot/pyflakes_1708962973874/work\n",
      "Pygments @ file:///Users/builder/cbouss/perseverance-python-buildout/croot/pygments_1699240212223/work\n",
      "PyJWT @ file:///private/var/folders/c_/qfmhj66j0tn016nkx_th4hxm0000gp/T/abs_1do0jad6_m/croot/pyjwt_1715095065795/work\n",
      "pylint @ file:///Users/builder/cbouss/perseverance-python-buildout/croot/pylint_1699249600083/work\n",
      "pylint-venv @ file:///private/var/folders/sy/f16zz6x50xz3113nwtb9bvq00000gp/T/abs_3dahm2v5f3/croot/pylint-venv_1709837629826/work\n",
      "pyls-spyder==0.4.0\n",
      "pyobjc-core @ file:///private/var/folders/sy/f16zz6x50xz3113nwtb9bvq00000gp/T/abs_36yvgw3oz6/croot/pyobjc-core_1710189033524/work\n",
      "pyobjc-framework-Cocoa @ file:///private/var/folders/sy/f16zz6x50xz3113nwtb9bvq00000gp/T/abs_12r73jqs07/croot/pyobjc-framework-cocoa_1710191901366/work\n",
      "pyobjc-framework-CoreServices @ file:///private/var/folders/c_/qfmhj66j0tn016nkx_th4hxm0000gp/T/abs_199hfpy51p/croot/pyobjc-framework-coreservices_1710193933908/work\n",
      "pyobjc-framework-FSEvents @ file:///private/var/folders/sy/f16zz6x50xz3113nwtb9bvq00000gp/T/abs_0dab4gnw3c/croot/pyobjc-framework-fsevents_1710193209160/work\n",
      "pyodbc @ file:///private/var/folders/sy/f16zz6x50xz3113nwtb9bvq00000gp/T/abs_2199ss_azm/croot/pyodbc_1725560243473/work\n",
      "pyOpenSSL @ file:///private/var/folders/sy/f16zz6x50xz3113nwtb9bvq00000gp/T/abs_71t2hv4vvv/croot/pyopenssl_1723651594788/work\n",
      "pyparsing @ file:///private/var/folders/c_/qfmhj66j0tn016nkx_th4hxm0000gp/T/abs_9dbsgn56nh/croot/pyparsing_1725041641537/work\n",
      "PyQt5==5.15.10\n",
      "PyQt5-sip @ file:///Users/builder/cbouss/perseverance-python-buildout/croot/pyqt-split_1699242856235/work/pyqt_sip\n",
      "PyQtWebEngine==5.15.6\n",
      "PySocks @ file:///Users/builder/cbouss/perseverance-python-buildout/croot/pysocks_1699239289103/work\n",
      "pytest @ file:///private/var/folders/sy/f16zz6x50xz3113nwtb9bvq00000gp/T/abs_05ocqzv9ck/croot/pytest_1717793248617/work\n",
      "python-dateutil @ file:///private/var/folders/c_/qfmhj66j0tn016nkx_th4hxm0000gp/T/abs_efk5_uakg8/croot/python-dateutil_1716495742183/work\n",
      "python-dotenv @ file:///Users/builder/cbouss/perseverance-python-buildout/croot/python-dotenv_1699241055777/work\n",
      "python-json-logger @ file:///Users/builder/cbouss/perseverance-python-buildout/croot/python-json-logger_1699260970759/work\n",
      "python-lsp-black @ file:///private/var/folders/c_/qfmhj66j0tn016nkx_th4hxm0000gp/T/abs_eckcpfh9zf/croot/python-lsp-black_1709232913455/work\n",
      "python-lsp-jsonrpc @ file:///croot/python-lsp-jsonrpc_1708962872556/work\n",
      "python-lsp-server @ file:///private/var/folders/sy/f16zz6x50xz3113nwtb9bvq00000gp/T/abs_b4e0v7lg9h/croot/python-lsp-server_1708971744886/work\n",
      "python-slugify @ file:///tmp/build/80754af9/python-slugify_1620405669636/work\n",
      "pytoolconfig @ file:///private/var/folders/sy/f16zz6x50xz3113nwtb9bvq00000gp/T/abs_653p0pw7wp/croot/pytoolconfig_1701728714959/work\n",
      "pytz @ file:///private/var/folders/sy/f16zz6x50xz3113nwtb9bvq00000gp/T/abs_244ln7biq9/croot/pytz_1713974320727/work\n",
      "pyviz_comms @ file:///private/var/folders/sy/f16zz6x50xz3113nwtb9bvq00000gp/T/abs_dbnvq3crv3/croot/pyviz_comms_1711136840751/work\n",
      "PyWavelets @ file:///private/var/folders/c_/qfmhj66j0tn016nkx_th4hxm0000gp/T/abs_582sjvwfmw/croot/pywavelets_1725657951885/work\n",
      "PyYAML @ file:///Users/builder/cbouss/perseverance-python-buildout/croot/pyyaml_1699244222906/work\n",
      "pyzmq @ file:///private/var/folders/c_/qfmhj66j0tn016nkx_th4hxm0000gp/T/abs_c7mhasdker/croot/pyzmq_1705605099593/work\n",
      "QDarkStyle @ file:///croot/qdarkstyle_1709231003551/work\n",
      "qstylizer @ file:///Users/builder/cbouss/perseverance-python-buildout/croot/qstylizer_1699288412558/work/dist/qstylizer-0.2.2-py2.py3-none-any.whl#sha256=6214adcabac9d631faf1367e1eb0b352efdd19e27acee735b2be77a48da68ab9\n",
      "QtAwesome @ file:///private/var/folders/c_/qfmhj66j0tn016nkx_th4hxm0000gp/T/abs_957r_8iurr/croot/qtawesome_1726169352969/work\n",
      "qtconsole @ file:///private/var/folders/c_/qfmhj66j0tn016nkx_th4hxm0000gp/T/abs_78oflnwwtn/croot/qtconsole_1709231162364/work\n",
      "QtPy @ file:///Users/builder/cbouss/perseverance-python-buildout/croot/qtpy_1701807229050/work\n",
      "queuelib @ file:///Users/builder/cbouss/perseverance-python-buildout/croot/queuelib_1699261318698/work\n",
      "redis==5.2.0\n",
      "referencing @ file:///Users/builder/cbouss/perseverance-python-buildout/croot/referencing_1701805251345/work\n",
      "regex @ file:///private/var/folders/sy/f16zz6x50xz3113nwtb9bvq00000gp/T/abs_a4s602267k/croot/regex_1726650054289/work\n",
      "requests @ file:///private/var/folders/sy/f16zz6x50xz3113nwtb9bvq00000gp/T/abs_4f6nxsozkv/croot/requests_1721410884113/work\n",
      "requests-file @ file:///Users/ktietz/demo/mc3/conda-bld/requests-file_1629455781986/work\n",
      "requests-toolbelt @ file:///Users/builder/cbouss/perseverance-python-buildout/croot/requests-toolbelt_1699241266818/work\n",
      "rfc3339-validator @ file:///Users/builder/cbouss/perseverance-python-buildout/croot/rfc3339-validator_1699261389119/work\n",
      "rfc3986-validator @ file:///Users/builder/cbouss/perseverance-python-buildout/croot/rfc3986-validator_1699261424790/work\n",
      "rich @ file:///private/var/folders/c_/qfmhj66j0tn016nkx_th4hxm0000gp/T/abs_6628g1yx0v/croot/rich_1720637500526/work\n",
      "rope @ file:///private/var/folders/c_/qfmhj66j0tn016nkx_th4hxm0000gp/T/abs_92ubl8fal8/croot/rope_1708963177078/work\n",
      "rpds-py @ file:///Users/builder/cbouss/perseverance-python-buildout/croot/rpds-py_1699288685310/work\n",
      "Rtree @ file:///Users/builder/cbouss/perseverance-python-buildout/croot/rtree_1699288775164/work\n",
      "ruamel-yaml-conda @ file:///Users/builder/cbouss/perseverance-python-buildout/croot/ruamel_yaml_1699261459931/work\n",
      "ruamel.yaml @ file:///private/var/folders/c_/qfmhj66j0tn016nkx_th4hxm0000gp/T/abs_a0tb7e252p/croot/ruamel.yaml_1727980165152/work\n",
      "ruamel.yaml.clib @ file:///private/var/folders/c_/qfmhj66j0tn016nkx_th4hxm0000gp/T/abs_47oq900ogu/croot/ruamel.yaml.clib_1727769824325/work\n",
      "s3fs @ file:///private/var/folders/c_/qfmhj66j0tn016nkx_th4hxm0000gp/T/abs_f6ytrzpuz5/croot/s3fs_1724924105768/work\n",
      "scikit-image @ file:///private/var/folders/sy/f16zz6x50xz3113nwtb9bvq00000gp/T/abs_5bpirsryxw/croot/scikit-image_1726737416023/work\n",
      "scikit-learn @ file:///private/var/folders/sy/f16zz6x50xz3113nwtb9bvq00000gp/T/abs_85eaew31xa/croot/scikit-learn_1721921878410/work\n",
      "scipy @ file:///private/var/folders/sy/f16zz6x50xz3113nwtb9bvq00000gp/T/abs_15kdberrhr/croot/scipy_1717597139640/work/dist/scipy-1.13.1-cp312-cp312-macosx_10_15_x86_64.whl#sha256=d6eedac036a5adb64ce8a50fe9948f3b329281071aa8198a2353a83e5bca25f6\n",
      "Scrapy @ file:///private/var/folders/c_/qfmhj66j0tn016nkx_th4hxm0000gp/T/abs_18quwz1daa/croot/scrapy_1708714695745/work\n",
      "seaborn @ file:///private/var/folders/sy/f16zz6x50xz3113nwtb9bvq00000gp/T/abs_ee_rs2l_8e/croot/seaborn_1718302941172/work\n",
      "semver @ file:///private/var/folders/c_/qfmhj66j0tn016nkx_th4hxm0000gp/T/abs_04zxln5dqm/croot/semver_1709243627150/work\n",
      "Send2Trash @ file:///Users/builder/cbouss/perseverance-python-buildout/croot/send2trash_1701806045227/work\n",
      "service-identity @ file:///Users/ktietz/demo/mc3/conda-bld/service_identity_1629460757137/work\n",
      "setuptools==75.1.0\n",
      "sip @ file:///Users/builder/cbouss/perseverance-python-buildout/croot/sip_1699241391218/work\n",
      "six @ file:///tmp/build/80754af9/six_1644875935023/work\n",
      "smart-open @ file:///Users/builder/cbouss/perseverance-python-buildout/croot/smart_open_1699247078492/work\n",
      "smmap @ file:///tmp/build/80754af9/smmap_1611694433573/work\n",
      "sniffio @ file:///private/var/folders/sy/f16zz6x50xz3113nwtb9bvq00000gp/T/abs_a46njf828g/croot/sniffio_1705431298111/work\n",
      "snowballstemmer @ file:///tmp/build/80754af9/snowballstemmer_1637937080595/work\n",
      "sortedcontainers @ file:///tmp/build/80754af9/sortedcontainers_1623949099177/work\n",
      "soupsieve @ file:///Users/builder/cbouss/perseverance-python-buildout/croot/soupsieve_1699283107629/work\n",
      "Sphinx @ file:///private/var/folders/sy/f16zz6x50xz3113nwtb9bvq00000gp/T/abs_961l5xr4ah/croot/sphinx_1718275394410/work\n",
      "sphinxcontrib-applehelp @ file:///home/ktietz/src/ci/sphinxcontrib-applehelp_1611920841464/work\n",
      "sphinxcontrib-devhelp @ file:///home/ktietz/src/ci/sphinxcontrib-devhelp_1611920923094/work\n",
      "sphinxcontrib-htmlhelp @ file:///tmp/build/80754af9/sphinxcontrib-htmlhelp_1623945626792/work\n",
      "sphinxcontrib-jsmath @ file:///home/ktietz/src/ci/sphinxcontrib-jsmath_1611920942228/work\n",
      "sphinxcontrib-qthelp @ file:///home/ktietz/src/ci/sphinxcontrib-qthelp_1611921055322/work\n",
      "sphinxcontrib-serializinghtml @ file:///private/var/folders/sy/f16zz6x50xz3113nwtb9bvq00000gp/T/abs_411tn96s_r/croot/sphinxcontrib-serializinghtml_1718201499016/work\n",
      "spyder @ file:///private/var/folders/sy/f16zz6x50xz3113nwtb9bvq00000gp/T/abs_2e74_t0sqb/croot/spyder_1727197283857/work\n",
      "spyder-kernels @ file:///private/var/folders/sy/f16zz6x50xz3113nwtb9bvq00000gp/T/abs_ffnypxgbj4/croot/spyder-kernels_1707937709341/work\n",
      "SQLAlchemy @ file:///private/var/folders/c_/qfmhj66j0tn016nkx_th4hxm0000gp/T/abs_37udwgy09c/croot/sqlalchemy_1725885054122/work\n",
      "stack-data @ file:///opt/conda/conda-bld/stack_data_1646927590127/work\n",
      "statsmodels @ file:///private/var/folders/c_/qfmhj66j0tn016nkx_th4hxm0000gp/T/abs_e7o9t8r4qh/croot/statsmodels_1718381195447/work\n",
      "streamlit @ file:///private/var/folders/sy/f16zz6x50xz3113nwtb9bvq00000gp/T/abs_8ayulo48q_/croot/streamlit_1724335168993/work\n",
      "swarmauri==0.5.0\n",
      "swarmauri-core==0.5.0\n",
      "sympy @ file:///private/var/folders/sy/f16zz6x50xz3113nwtb9bvq00000gp/T/abs_4by5rj7_56/croot/sympy_1724938199913/work\n",
      "tables @ file:///private/var/folders/c_/qfmhj66j0tn016nkx_th4hxm0000gp/T/abs_de52beu5z4/croot/pytables_1725380787883/work\n",
      "tabulate @ file:///Users/builder/cbouss/perseverance-python-buildout/croot/tabulate_1701814043620/work\n",
      "tblib @ file:///Users/ktietz/demo/mc3/conda-bld/tblib_1629402031467/work\n",
      "tenacity @ file:///private/var/folders/sy/f16zz6x50xz3113nwtb9bvq00000gp/T/abs_29tpjkynmo/croot/tenacity_1721222515217/work\n",
      "terminado @ file:///Users/builder/cbouss/perseverance-python-buildout/croot/terminado_1699284203253/work\n",
      "text-unidecode @ file:///Users/ktietz/demo/mc3/conda-bld/text-unidecode_1629401354553/work\n",
      "textdistance @ file:///tmp/build/80754af9/textdistance_1612461398012/work\n",
      "threadpoolctl @ file:///private/var/folders/c_/qfmhj66j0tn016nkx_th4hxm0000gp/T/abs_83z9rmqojb/croot/threadpoolctl_1719407811780/work\n",
      "three-merge @ file:///tmp/build/80754af9/three-merge_1607553261110/work\n",
      "tifffile @ file:///Users/builder/cbouss/perseverance-python-buildout/croot/tifffile_1699250821262/work\n",
      "tinycss2 @ file:///Users/builder/cbouss/perseverance-python-buildout/croot/tinycss2_1699262458881/work\n",
      "tldextract @ file:///private/var/folders/c_/qfmhj66j0tn016nkx_th4hxm0000gp/T/abs_e1yx82kx3f/croot/tldextract_1723064390847/work\n",
      "toml @ file:///tmp/build/80754af9/toml_1616166611790/work\n",
      "tomli @ file:///Users/builder/cbouss/perseverance-python-buildout/croot/tomli_1699238675700/work\n",
      "tomlkit @ file:///Users/builder/cbouss/perseverance-python-buildout/croot/tomlkit_1699241429121/work\n",
      "toolz @ file:///Users/builder/cbouss/perseverance-python-buildout/croot/toolz_1699240342066/work\n",
      "tornado @ file:///private/var/folders/c_/qfmhj66j0tn016nkx_th4hxm0000gp/T/abs_7e0ruwlfee/croot/tornado_1718740118099/work\n",
      "tqdm @ file:///private/var/folders/c_/qfmhj66j0tn016nkx_th4hxm0000gp/T/abs_5akmb2c3eu/croot/tqdm_1724853941623/work\n",
      "traitlets @ file:///private/var/folders/sy/f16zz6x50xz3113nwtb9bvq00000gp/T/abs_f49losghmg/croot/traitlets_1718227069025/work\n",
      "truststore @ file:///Users/builder/cbouss/perseverance-python-buildout/croot/truststore_1701811390284/work\n",
      "Twisted @ file:///private/var/folders/c_/qfmhj66j0tn016nkx_th4hxm0000gp/T/abs_1ci0_ly4iu/croot/twisted_1708705445231/work\n",
      "typing_extensions @ file:///private/var/folders/c_/qfmhj66j0tn016nkx_th4hxm0000gp/T/abs_0b3pj9yhn2/croot/typing_extensions_1715268854415/work\n",
      "tzdata @ file:///croot/python-tzdata_1690578112552/work\n",
      "uc-micro-py @ file:///Users/builder/cbouss/perseverance-python-buildout/croot/uc-micro-py_1699262916237/work\n",
      "ujson @ file:///private/var/folders/c_/qfmhj66j0tn016nkx_th4hxm0000gp/T/abs_285w4aewnz/croot/ujson_1717597803207/work\n",
      "unicodedata2 @ file:///private/var/folders/sy/f16zz6x50xz3113nwtb9bvq00000gp/T/abs_1anajuo38r/croot/unicodedata2_1713212953928/work\n",
      "Unidecode @ file:///private/var/folders/sy/f16zz6x50xz3113nwtb9bvq00000gp/T/abs_aacp17wle0/croot/unidecode_1724790053243/work\n",
      "urllib3 @ file:///private/var/folders/c_/qfmhj66j0tn016nkx_th4hxm0000gp/T/abs_7dvsr0a5y0/croot/urllib3_1727769823716/work\n",
      "w3lib @ file:///Users/builder/cbouss/perseverance-python-buildout/croot/w3lib_1709225391438/work\n",
      "watchdog @ file:///Users/builder/cbouss/crwatchdog/watchdog_1717165253549/work\n",
      "wcwidth @ file:///Users/ktietz/demo/mc3/conda-bld/wcwidth_1629357192024/work\n",
      "webencodings @ file:///Users/builder/cbouss/perseverance-python-buildout/croot/webencodings_1699250987289/work\n",
      "websocket-client @ file:///private/var/folders/c_/qfmhj66j0tn016nkx_th4hxm0000gp/T/abs_8c3cjp8r36/croot/websocket-client_1715878317325/work\n",
      "Werkzeug @ file:///private/var/folders/sy/f16zz6x50xz3113nwtb9bvq00000gp/T/abs_53yi9ymayw/croot/werkzeug_1716533323400/work\n",
      "whatthepatch @ file:///Users/builder/cbouss/perseverance-python-buildout/croot/whatthepatch_1699251044124/work\n",
      "wheel==0.44.0\n",
      "widgetsnbextension @ file:///private/var/folders/c_/qfmhj66j0tn016nkx_th4hxm0000gp/T/abs_55iz0tfo89/croot/widgetsnbextension_1710960056659/work\n",
      "wrapt @ file:///Users/builder/cbouss/perseverance-python-buildout/croot/wrapt_1699245094349/work\n",
      "wurlitzer @ file:///Users/builder/cbouss/perseverance-python-buildout/croot/wurlitzer_1699296593258/work\n",
      "xarray @ file:///Users/builder/cbouss/perseverance-python-buildout/croot/xarray_1699245129880/work\n",
      "xlwings @ file:///private/var/folders/c_/qfmhj66j0tn016nkx_th4hxm0000gp/T/abs_838do436jw/croot/xlwings_1725400106901/work\n",
      "xyzservices @ file:///Users/builder/cbouss/perseverance-python-buildout/croot/xyzservices_1699251070342/work\n",
      "yapf @ file:///private/var/folders/sy/f16zz6x50xz3113nwtb9bvq00000gp/T/abs_eaaxlq87mt/croot/yapf_1708964321438/work\n",
      "yarl @ file:///private/var/folders/sy/f16zz6x50xz3113nwtb9bvq00000gp/T/abs_e1e9t55odx/croot/yarl_1725976505882/work\n",
      "zict @ file:///Users/builder/cbouss/perseverance-python-buildout/croot/zict_1699263607025/work\n",
      "zipp @ file:///Users/builder/cbouss/perseverance-python-buildout/croot/zipp_1707361439201/work\n",
      "zope.interface @ file:///Users/builder/cbouss/perseverance-python-buildout/croot/zope.interface_1699251096669/work\n",
      "zstandard @ file:///private/var/folders/sy/f16zz6x50xz3113nwtb9bvq00000gp/T/abs_2bqnms2ngq/croot/zstandard_1728569218033/work\n",
      "Note: you may need to restart the kernel to use updated packages.\n"
     ]
    }
   ],
   "source": [
    "pip freeze"
   ]
  },
  {
   "cell_type": "code",
   "execution_count": null,
   "id": "4af53b83-4895-4bb2-87a1-aa2cbf0692db",
   "metadata": {},
   "outputs": [],
   "source": []
  }
 ],
 "metadata": {
  "kernelspec": {
   "display_name": "Python 3 (ipykernel)",
   "language": "python",
   "name": "python3"
  },
  "language_info": {
   "codemirror_mode": {
    "name": "ipython",
    "version": 3
   },
   "file_extension": ".py",
   "mimetype": "text/x-python",
   "name": "python",
   "nbconvert_exporter": "python",
   "pygments_lexer": "ipython3",
   "version": "3.12.7"
  }
 },
 "nbformat": 4,
 "nbformat_minor": 5
}
